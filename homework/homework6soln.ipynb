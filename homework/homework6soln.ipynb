{
 "cells": [
  {
   "cell_type": "markdown",
   "metadata": {},
   "source": [
    "# MCS 260 Fall 2021 Homework 6 Solutions\n",
    "\n",
    "* Course Instructor: David Dumas\n",
    "* Solutions Prepared By: Kylash Viswanathan and David Dumas"
   ]
  },
  {
   "cell_type": "markdown",
   "metadata": {},
   "source": [
    "## Instructions:\n",
    "\n",
    "* Complete the problems below, which ask you to write Python scripts.\n",
    "* Upload your python code directly to gradescope, i.e. upload the `.py` files containing your work.  (If you upload a screenshot or other file format, you won't get credit.)\n",
    "\n",
    "### Deadline\n",
    "This homework assignment must be submitted in Gradescope by 10am CST on Tuesday, October 5, 2021.\n",
    "\n",
    "### Topic\n",
    "This homework assignment focuses on:\n",
    "\n",
    "* Command line arguments\n",
    "* Opening, Reading and writing files\n",
    "* String formatting\n",
    "\n",
    "### Collaboration\n",
    "\n",
    "**Collaboration is prohibited**, and you may only access resources (books, online, etc.) listed below.\n",
    "\n",
    "### Resources you may consult\n",
    "\n",
    "The course materials you may refer to for this homework are:\n",
    "\n",
    "* [Worksheet 6 Solutions](https://www.dumas.io/teaching/2021/fall/mcs260/nbview/worksheets/worksheet6soln.html)\n",
    "* [Lecture 12 - operating systems and command line arguments](https://www.dumas.io/teaching/2021/fall/mcs260/slides/lecture12.html)\n",
    "* [Lecture 13 - file I/O and string formatting](https://www.dumas.io/teaching/2021/fall/mcs260/slides/lecture13.html)\n",
    "* [Lecture 14 - files for structured data](https://www.dumas.io/teaching/2021/fall/mcs260/slides/lecture14.html)\n",
    "* Slides from any other lecture of MCS 260, Fall 2021.\n",
    "* Any lecture video posted on the [course Blackboard site](https://uic.blackboard.com/ultra/courses/_202683_1/cl/outline).\n",
    "* [Downey's book](https://greenteapress.com/thinkpython2/html/)\n",
    "* Anything in the course [sample code repository](https://github.com/daviddumas/mcs260fall2021/tree/main/samplecode).\n",
    "\n",
    "### Point distribution\n",
    "\n",
    "This homework assignment has 2 problems, numbered 2 and 3.  The grading breakdown is:\n",
    "\n",
    "| Points | Item |\n",
    "| --- | --- |\n",
    "| 2 | Autograder |\n",
    "| 4 | Problem 2 |\n",
    "| 4 | Problem 3 |\n",
    "| **10** | Total |\n",
    "\n",
    "\n",
    "### What to do if you're stuck\n",
    "\n",
    "Ask your instructor or TA a question by email, in office hours, or on discord."
   ]
  },
  {
   "cell_type": "markdown",
   "metadata": {},
   "source": [
    "## (  1. There's no problem 1  )\n",
    "\n",
    "Gradescope will show the results of the automated syntax check of all submitted files as the score for problem 1."
   ]
  },
  {
   "cell_type": "markdown",
   "metadata": {},
   "source": [
    "## 2. Company renaming\n",
    "\n",
    "Suppose a company called NetShareTube has decided to rename itself to SynerGrowthTech.  Unfortunately, they have a lot of text files (Python program code, documentation, etc.) that will need to be updated because they refer to the old name.\n",
    "\n",
    "Write a Python program `hwk6prob2.py` to assist with the renaming as follows:\n",
    "* It accepts two command line arguments: an **input filename** and an **output filename** (in that order)\n",
    "* The program opens the input file for reading\n",
    "* The program opens the output file for writing\n",
    "* The contents of the input file are read, any instance of `NetShareTube` is changed to `SynerGrowthTech`, and the result is written to the output file\n",
    "\n",
    "For example, if a file `mission_statement.txt` in the current directory contains this text:\n",
    "```\n",
    "At NetShareTube, we are committed to excellence in all its forms.  We produce\n",
    "scalable enterprise solutions for delivering excellent customer experiences.\n",
    "\n",
    "NetShareTube was founded in 2019 by a visionary leader who is no longer with\n",
    "the company.\n",
    "```\n",
    "and if the following command is run\n",
    "```\n",
    "python3 hwk6prob2.py mission_statement.txt mission_statement_updated.txt\n",
    "```\n",
    "then a new file `mission_statement_updated.txt` should be created with the following content:\n",
    "```\n",
    "At SynerGrowthTech, we are committed to excellence in all its forms.  We produce\n",
    "scalable enterprise solutions for delivering excellent customer experiences.\n",
    "\n",
    "SynerGrowthTech was founded in 2019 by a visionary leader who is no longer with\n",
    "the company.\n",
    "```"
   ]
  },
  {
   "cell_type": "markdown",
   "metadata": {},
   "source": [
    "## 2. Solution\n"
   ]
  },
  {
   "cell_type": "code",
   "execution_count": null,
   "metadata": {},
   "outputs": [],
   "source": [
    "\"\"\"\n",
    "Replaces instances of SynerGrowthTech with NetShareTube in an output file given from an input file (taken at command line)\n",
    "\"\"\"\n",
    "import sys\n",
    "\n",
    "in_filename = sys.argv[1]\n",
    "out_filename = sys.argv[2]\n",
    "\n",
    "in_file = open(in_filename, \"r\", encoding = \"UTF=8\")\n",
    "out_file = open(out_filename, \"w\", encoding = \"UTF-8\")\n",
    "\n",
    "for line in in_file:\n",
    "     out_file.write(line.replace(\"NetShareTube\", \"SynerGrowthTech\"))\n",
    "out_file.close()"
   ]
  },
  {
   "cell_type": "markdown",
   "metadata": {},
   "source": [
    "## 3. Dice report\n",
    "\n",
    "Write a program `hwk6prob3.py` that uses Python's random module to simulate rolling two 6-sided dice (each with the numbers 1, 2, 3, 4, 5, 6 on its faces) 20 times in a row.  The program should make note of each time the dice roll totals to 7.  The program should display the results on the screen as a table in the following format:\n",
    "```\n",
    "D1 D2 S?    SPct\n",
    " 2  5  Y  100.00\n",
    " 1  3  N   50.00\n",
    " 2  5  Y   66.67\n",
    " 2  6  N   50.00\n",
    " 2  1  N   40.00\n",
    " 2  3  N   33.33\n",
    " 1  4  N   28.57\n",
    " 2  6  N   25.00\n",
    " 4  1  N   22.22\n",
    " 6  6  N   20.00\n",
    " 4  4  N   18.18\n",
    " 3  5  N   16.67\n",
    " 2  1  N   15.38\n",
    " 1  4  N   14.29\n",
    " 1  6  Y   20.00\n",
    " 1  4  N   18.75\n",
    " 2  5  Y   23.53\n",
    " 4  3  Y   27.78\n",
    " 6  2  N   26.32\n",
    " 5  6  N   25.00\n",
    "```\n",
    "Here, column `D1` shows the roll of the first die, `D2` shows the roll of the second die, and `S?` shows `Y` or `N` to indicate whether or not the dice sum to 7.  The final column `SPct` shows the percentage of rolls so far that sum to 7.  Notice that the columns are nicely aligned, with the right edge of each column label matching the right hand side of the column of numbers or values.  Also, percentages are shown with 2 digits after the decimal point (so, allowing for 3 digits before the decimal point and the point itself, each percentage is shown in a way that has a total width of 6 characters).\n",
    "\n",
    "While you can certainly use the solution to the \"coin flip report\" from Worksheet 6 as a starting point for this problem, make note of a key difference:\n",
    "- The coin flip report program writes its report to a file (displaying nothing on the screen)\n",
    "- This program is supposed to write its report to the screen (not creating or using any files)"
   ]
  },
  {
   "cell_type": "markdown",
   "metadata": {},
   "source": [
    "## 3. Solution"
   ]
  },
  {
   "cell_type": "code",
   "execution_count": 6,
   "metadata": {},
   "outputs": [
    {
     "name": "stdout",
     "output_type": "stream",
     "text": [
      "D1 D2 S?    SPct\n",
      " 4  6  N    0.00\n",
      " 5  4  N    0.00\n",
      " 2  3  N    0.00\n",
      " 2  5  Y   25.00\n",
      " 5  6  N   20.00\n",
      " 2  5  Y   33.33\n",
      " 4  4  N   28.57\n",
      " 2  3  N   25.00\n",
      " 3  3  N   22.22\n",
      " 6  1  Y   30.00\n",
      " 1  5  N   27.27\n",
      " 4  4  N   25.00\n",
      " 6  2  N   23.08\n",
      " 2  2  N   21.43\n",
      " 3  4  Y   26.67\n",
      " 1  3  N   25.00\n",
      " 6  3  N   23.53\n",
      " 1  2  N   22.22\n",
      " 5  1  N   21.05\n",
      " 6  6  N   20.00\n"
     ]
    }
   ],
   "source": [
    "\"\"\"\n",
    "Simulates the roll of a 6-sided dice using the random module\n",
    "Reports the results of 20 rolls, whether the dice sum to 7, and the percentage occurance of 7\n",
    "\"\"\"\n",
    "import random\n",
    "\n",
    "dice_values = [1,2,3,4,5,6]\n",
    "seven_ct = 0 # How many 7s have been rolled so far?\n",
    "\n",
    "print(\"D1 D2 S?    SPct\")\n",
    "for i in range(20):\n",
    "    roll_1 = random.choice(dice_values)  # Could also use random.randint(1,6)\n",
    "    roll_2 = random.choice(dice_values)\n",
    "    if roll_1 + roll_2 == 7:\n",
    "        seven_ct = seven_ct + 1\n",
    "        seven_status = \"Y\"\n",
    "    else:\n",
    "        seven_status = \"N\"\n",
    "    seven_percent = 100*seven_ct / (i+1)\n",
    "    print(\" {}  {}  {}  {:6.2f}\".format(\n",
    "        roll_1,\n",
    "        roll_2,\n",
    "        seven_status,\n",
    "        seven_percent\n",
    "    ))"
   ]
  },
  {
   "cell_type": "markdown",
   "metadata": {},
   "source": [
    "## Revision history\n",
    "\n",
    "* 2021-10-08 Initial release"
   ]
  }
 ],
 "metadata": {
  "kernelspec": {
   "display_name": "Python 3",
   "language": "python",
   "name": "python3"
  },
  "language_info": {
   "codemirror_mode": {
    "name": "ipython",
    "version": 3
   },
   "file_extension": ".py",
   "mimetype": "text/x-python",
   "name": "python",
   "nbconvert_exporter": "python",
   "pygments_lexer": "ipython3",
   "version": "3.8.10"
  }
 },
 "nbformat": 4,
 "nbformat_minor": 4
}
